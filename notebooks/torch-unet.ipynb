{
 "cells": [
  {
   "cell_type": "code",
   "execution_count": 2,
   "metadata": {
    "_cell_guid": "b1076dfc-b9ad-4769-8c92-a6c4dae69d19",
    "_uuid": "8f2839f25d086af736a60e9eeb907d3b93b6e0e5"
   },
   "outputs": [],
   "source": [
    "import numpy as np\n",
    "import os\n",
    "from pathlib import Path\n",
    "#import cv2\n",
    "import matplotlib.pyplot as plt\n",
    "from PIL import Image\n",
    "import joblib\n",
    "import pickle\n",
    "\n",
    "#from sklearn.model_selection import train_test_split\n",
    "\n",
    "#!pip install pytorch-msssim\n",
    "#from pytorch_msssim import ssim\n",
    "import torch\n",
    "import torch.nn as nn\n",
    "import torch.nn.functional as F\n",
    "from torch import nn, optim\n",
    "from torch.utils.data import DataLoader, TensorDataset, Dataset, random_split\n",
    "\n",
    "from cfa import colorize_cfa, rgb_kf"
   ]
  },
  {
   "cell_type": "code",
   "execution_count": 12,
   "metadata": {},
   "outputs": [
    {
     "data": {
      "text/plain": [
       "(torch.Size([101, 3, 160, 160]), torch.Size([101, 3, 160, 160]))"
      ]
     },
     "execution_count": 12,
     "metadata": {},
     "output_type": "execute_result"
    }
   ],
   "source": [
    "def load_images(directory, t = \".png\"):\n",
    "    \"\"\"\n",
    "    Load images from dir\n",
    "\n",
    "    Parameters:\n",
    "    - directory (str): directory to get data\n",
    "    - target_size (tuple): expected size of images without channels\n",
    "\n",
    "    Returns:\n",
    "    - data (torch.Tensor): A torch stack with the data\n",
    "    \"\"\"\n",
    "    images = []\n",
    "    for root, dirs, files in os.walk(directory):\n",
    "        # os.walk returns files in arbitrary order\n",
    "        for file in sorted(files):\n",
    "            if file.endswith(t):\n",
    "                image_path = os.path.join(root, file)\n",
    "                image_tensor = (\n",
    "                    torch.Tensor(np.array(Image.open(image_path).convert('RGB'), dtype=np.float32)).permute(2,0,1)\n",
    "                    if t == \".tiff\" or t == \".png\"\n",
    "                    else torch.Tensor(colorize_cfa(np.load(image_path), rgb_kf).astype(np.float32)).permute(2,0,1)\n",
    "                )\n",
    "\n",
    "                if image_tensor.max() > 1:\n",
    "                    image_tensor /= 256.0\n",
    "\n",
    "                images.append(image_tensor)\n",
    "    return torch.stack(images)\n",
    "\n",
    "train_clean = load_images(\"/home/gustav/Downloads/ds_proc/none-test\", t=\".png\")\n",
    "train_noise = load_images(\"/home/gustav/Downloads/ds_proc/tiff-test\", t=\".tiff\")\n",
    "train_noise.shape, train_clean.shape"
   ]
  },
  {
   "cell_type": "code",
   "execution_count": 5,
   "metadata": {},
   "outputs": [],
   "source": [
    "class PairedDataset(Dataset):\n",
    "    def __init__(self, data_clean, data_noisy):\n",
    "        self.data_clean = data_clean\n",
    "        self.data_noisy = data_noisy\n",
    "\n",
    "    def __len__(self):\n",
    "        # Assuming both datasets have the same length\n",
    "        return len(self.data_clean)\n",
    "\n",
    "    def __getitem__(self, idx):\n",
    "        clean_image = self.data_clean[idx]\n",
    "        noisy_image = self.data_noisy[idx]\n",
    "\n",
    "        return clean_image, noisy_image\n",
    "\n",
    "class DenoisingAutoencoder(nn.Module):\n",
    "    def __init__(self, channels=3):\n",
    "        super(DenoisingAutoencoder, self).__init__()\n",
    "        # Encoder\n",
    "        self.enc1 = nn.Sequential(\n",
    "            nn.Conv2d(channels, 64, kernel_size=4, stride=2, padding=1), \n",
    "            nn.BatchNorm2d(64),\n",
    "            nn.ReLU(True))\n",
    "        self.enc2 = nn.Sequential(\n",
    "            nn.Conv2d(64, 128, kernel_size=4, stride=2, padding=1), \n",
    "            nn.BatchNorm2d(128),\n",
    "            nn.ReLU(True))\n",
    "        self.enc3 = nn.Sequential(\n",
    "            nn.Conv2d(128, 256, kernel_size=4, stride=2, padding=1), \n",
    "            nn.BatchNorm2d(256),\n",
    "            nn.ReLU(True))\n",
    "        self.enc4 = nn.Sequential(\n",
    "            nn.Conv2d(256, 512, kernel_size=4, stride=2, padding=1), \n",
    "            nn.BatchNorm2d(512),\n",
    "            nn.ReLU(True))\n",
    "        self.enc5 = nn.Sequential(\n",
    "            nn.Conv2d(512, 512, kernel_size=4, stride=2, padding=1), \n",
    "            nn.BatchNorm2d(512),\n",
    "            nn.ReLU(True))\n",
    "\n",
    "        # Decoder\n",
    "        self.dec1 = nn.Sequential(\n",
    "            nn.ConvTranspose2d(512, 512, kernel_size=4, stride=2, padding=1), \n",
    "            nn.BatchNorm2d(512),\n",
    "            nn.ReLU(True),\n",
    "            nn.Dropout(0.5))\n",
    "        self.dec2 = nn.Sequential(\n",
    "            nn.ConvTranspose2d(1024, 256, kernel_size=4, stride=2, padding=1), # the 1024 comes from concatenation\n",
    "            nn.BatchNorm2d(256),\n",
    "            nn.ReLU(True))\n",
    "        self.dec3 = nn.Sequential(\n",
    "            nn.ConvTranspose2d(512, 128, kernel_size=4, stride=2, padding=1), \n",
    "            nn.BatchNorm2d(128),\n",
    "            nn.ReLU(True))\n",
    "        self.dec4 = nn.Sequential(\n",
    "            nn.ConvTranspose2d(256, 64, kernel_size=4, stride=2, padding=1), \n",
    "            nn.BatchNorm2d(64),\n",
    "            nn.ReLU(True))\n",
    "        self.dec5 = nn.Sequential(\n",
    "            nn.ConvTranspose2d(128, 3, kernel_size=4, stride=2, padding=1), \n",
    "            nn.Tanh())\n",
    "\n",
    "    def forward(self, x):\n",
    "        # Encoder\n",
    "        e1 = self.enc1(x)\n",
    "        e2 = self.enc2(e1)\n",
    "        e3 = self.enc3(e2)\n",
    "        e4 = self.enc4(e3)\n",
    "        e5 = self.enc5(e4)\n",
    "\n",
    "        # Decoder with skip connections\n",
    "        d1 = self.dec1(e5)\n",
    "        d1 = torch.cat((d1, e4), dim=1)  # skip connection\n",
    "        d2 = self.dec2(d1)\n",
    "        d2 = torch.cat((d2, e3), dim=1)  # skip connection\n",
    "        d3 = self.dec3(d2)\n",
    "        d3 = torch.cat((d3, e2), dim=1)  # skip connection\n",
    "        d4 = self.dec4(d3)\n",
    "        d4 = torch.cat((d4, e1), dim=1)  # skip connection\n",
    "        d5 = self.dec5(d4)\n",
    "        return d5"
   ]
  },
  {
   "cell_type": "code",
   "execution_count": 14,
   "metadata": {},
   "outputs": [
    {
     "data": {
      "text/plain": [
       "torch.Size([10, 3, 160, 160])"
      ]
     },
     "execution_count": 14,
     "metadata": {},
     "output_type": "execute_result"
    }
   ],
   "source": [
    "model = DenoisingAutoencoder()\n",
    "model.forward(train_noise[:10]).shape"
   ]
  },
  {
   "cell_type": "code",
   "execution_count": 6,
   "metadata": {},
   "outputs": [
    {
     "ename": "NameError",
     "evalue": "name 'tensor_to_image' is not defined",
     "output_type": "error",
     "traceback": [
      "\u001b[0;31m---------------------------------------------------------------------------\u001b[0m",
      "\u001b[0;31mNameError\u001b[0m                                 Traceback (most recent call last)",
      "Cell \u001b[0;32mIn[6], line 3\u001b[0m\n\u001b[1;32m      1\u001b[0m plt\u001b[38;5;241m.\u001b[39mfigure(figsize\u001b[38;5;241m=\u001b[39m(\u001b[38;5;241m12\u001b[39m, \u001b[38;5;241m4\u001b[39m))\n\u001b[1;32m      2\u001b[0m plt\u001b[38;5;241m.\u001b[39msubplot(\u001b[38;5;241m1\u001b[39m, \u001b[38;5;241m2\u001b[39m, \u001b[38;5;241m1\u001b[39m)\n\u001b[0;32m----> 3\u001b[0m plt\u001b[38;5;241m.\u001b[39mimshow(\u001b[43mtensor_to_image\u001b[49m(train_clean[\u001b[38;5;241m0\u001b[39m]))\n\u001b[1;32m      4\u001b[0m plt\u001b[38;5;241m.\u001b[39mtitle(\u001b[38;5;124mf\u001b[39m\u001b[38;5;124m'\u001b[39m\u001b[38;5;124mData \u001b[39m\u001b[38;5;132;01m{\u001b[39;00mtrain_clean[\u001b[38;5;241m0\u001b[39m]\u001b[38;5;241m.\u001b[39mdtype\u001b[38;5;132;01m}\u001b[39;00m\u001b[38;5;124m'\u001b[39m)\n\u001b[1;32m      5\u001b[0m plt\u001b[38;5;241m.\u001b[39msubplot(\u001b[38;5;241m1\u001b[39m, \u001b[38;5;241m2\u001b[39m, \u001b[38;5;241m2\u001b[39m)\n",
      "\u001b[0;31mNameError\u001b[0m: name 'tensor_to_image' is not defined"
     ]
    },
    {
     "data": {
      "image/png": "[encoded data removed]",
      "text/plain": [
       "<Figure size 1200x400 with 1 Axes>"
      ]
     },
     "metadata": {},
     "output_type": "display_data"
    }
   ],
   "source": [
    "plt.figure(figsize=(12, 4))\n",
    "plt.subplot(1, 2, 1)\n",
    "plt.imshow(tensor_to_image(train_clean[0]))\n",
    "plt.title(f'Data {train_clean[0].dtype}')\n",
    "plt.subplot(1, 2, 2)\n",
    "plt.imshow(tensor_to_image(train_noise[0]))\n",
    "plt.title(f'Gussian {train_noise[0].dtype}')\n",
    "plt.tight_layout()\n",
    "plt.show()"
   ]
  },
  {
   "cell_type": "code",
   "execution_count": 26,
   "metadata": {
    "scrolled": true
   },
   "outputs": [
    {
     "name": "stdout",
     "output_type": "stream",
     "text": [
      "Training\n",
      "Epoch 1/1, Loss: 1.0008522421121597\n"
     ]
    }
   ],
   "source": [
    "def train(train_clean, train_noise, model_dest=\"/\", n_epochs=50):\n",
    "    device = torch.device(\"cuda:0\" if torch.cuda.is_available() else \"cpu\")\n",
    "    \n",
    "    paired_dataset = PairedDataset(train_clean, train_noise)\n",
    "    paired_loader  = DataLoader(paired_dataset, batch_size=32, shuffle=True)\n",
    "    \n",
    "    #def ssim_loss(y_true, y_pred):\n",
    "    #    return 1 - ssim(y_true, y_pred, data_range=1, size_average=True)\n",
    "    \n",
    "    model = DenoisingAutoencoder().to(device)\n",
    "    #criterion = ssim_loss\n",
    "    criterion = nn.MSELoss()\n",
    "    optimizer = optim.Adam(model.parameters(), lr=1e-4)\n",
    "\n",
    "    print(\"Training\")\n",
    "    for epoch in range(n_epochs):\n",
    "        model.train()\n",
    "        running_loss = 0.0\n",
    "    \n",
    "        for clean_images, noisy_images in paired_loader:\n",
    "            clean_images, noisy_images = clean_images.to(device), noisy_images.to(device)\n",
    "    \n",
    "            optimizer.zero_grad()\n",
    "    \n",
    "            # Forward pass\n",
    "            outputs = model(noisy_images)\n",
    "            loss = criterion(outputs, clean_images)\n",
    "            loss.backward()\n",
    "            optimizer.step()\n",
    "    \n",
    "            running_loss += loss.item()\n",
    "    \n",
    "        epoch_loss = running_loss / len(paired_loader)\n",
    "        print(f'Epoch {epoch+1}/{n_epochs}, Loss: {epoch_loss}')\n",
    "        \n",
    "    for param in model.parameters():\n",
    "        if torch.isnan(param).any() or torch.isinf(param).any():\n",
    "            print(\"Model contains NaN or inf values\")\n",
    "            \n",
    "    joblib.dump(model, Path(model_dest))\n",
    "\n",
    "train(train_clean, train_noise, model_dest=\"/home/gustav/Downloads/ds_proc/test.pkl\", n_epochs=1)"
   ]
  },
  {
   "cell_type": "code",
   "execution_count": 30,
   "metadata": {},
   "outputs": [],
   "source": [
    "model = pickle.load(open(\"/home/gustav/Downloads/ds_proc/test.pkl\", \"rb\"))"
   ]
  },
  {
   "cell_type": "code",
   "execution_count": 16,
   "metadata": {},
   "outputs": [
    {
     "data": {
      "text/plain": [
       "['0.29571714997291565',\n",
       " '0.33826544880867004',\n",
       " '0.3392800986766815',\n",
       " '0.3564023971557617']"
      ]
     },
     "execution_count": 16,
     "metadata": {},
     "output_type": "execute_result"
    }
   ],
   "source": [
    "def show_validation(inputs_clean, inputs_noise, outputs):\n",
    "    fig, axs = plt.subplots(3, 3, figsize=(15, 6))\n",
    "    for i in range(3):\n",
    "        for n, (title, data) in enumerate([\n",
    "            (\"Target image\", inputs_clean),\n",
    "            (\"Input noisy\", inputs_noise),\n",
    "            (\"Result image\", outputs)\n",
    "        ]):\n",
    "            axs[n, i].imshow(data[i].permute(1, 2, 0).squeeze())\n",
    "            axs[n, i].title.set_text(title + str(i+1))\n",
    "            axs[n, i].axis('off')\n",
    "\n",
    "    plt.show()\n",
    "\n",
    "def validate(model, val_clean, val_noise):\n",
    "    device = torch.device(\"cuda:0\" if torch.cuda.is_available() else \"cpu\")\n",
    "    \n",
    "    paired_dataset = PairedDataset(val_clean, val_noise)\n",
    "    paired_loader  = DataLoader(paired_dataset, batch_size=32, shuffle=False)\n",
    "    \n",
    "    model.eval()\n",
    "    model.to(device)\n",
    "\n",
    "    criterion = nn.MSELoss()\n",
    "\n",
    "    losses = []\n",
    "    with torch.no_grad():\n",
    "        for n, (inputs_clean, inputs_noise) in enumerate(paired_loader):\n",
    "            outputs = model(inputs_noise.to(device))\n",
    "            mse = criterion(outputs, inputs_clean.to(device))\n",
    "            losses.append(mse)\n",
    "    \n",
    "            #if n == 0:\n",
    "            #   show_validation(inputs_clean.cpu(), inputs_noise.cpu(), outputs.cpu())\n",
    "\n",
    "    return losses\n",
    "\n",
    "losses = validate(model, train_clean, train_noise)\n",
    "[f\"{loss}\" for loss in losses]"
   ]
  }
 ],
 "metadata": {
  "kaggle": {
   "accelerator": "none",
   "dataSources": [
    {
     "datasetId": 29561,
     "sourceId": 37705,
     "sourceType": "datasetVersion"
    },
    {
     "datasetId": 4514338,
     "sourceId": 7726797,
     "sourceType": "datasetVersion"
    }
   ],
   "dockerImageVersionId": 30665,
   "isGpuEnabled": false,
   "isInternetEnabled": true,
   "language": "python",
   "sourceType": "notebook"
  },
  "kernelspec": {
   "display_name": "Python 3 (ipykernel)",
   "language": "python",
   "name": "python3"
  },
  "language_info": {
   "codemirror_mode": {
    "name": "ipython",
    "version": 3
   },
   "file_extension": ".py",
   "mimetype": "text/x-python",
   "name": "python",
   "nbconvert_exporter": "python",
   "pygments_lexer": "ipython3",
   "version": "3.11.8"
  }
 },
 "nbformat": 4,
 "nbformat_minor": 4
}
