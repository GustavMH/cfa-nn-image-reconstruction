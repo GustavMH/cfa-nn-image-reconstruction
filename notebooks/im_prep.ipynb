{
 "cells": [
  {
   "cell_type": "code",
   "execution_count": 1,
   "id": "a48b32dc-99ea-49b2-a419-e42696cb28fd",
   "metadata": {},
   "outputs": [],
   "source": [
    "import os\n",
    "import time\n",
    "from pathlib import Path\n",
    "\n",
    "def findAllFiles(path):\n",
    "    res = []\n",
    "    path, folders, files = next(os.walk(path))\n",
    "    if folders:\n",
    "        for f in folders:\n",
    "            res.extend(findAllFiles(os.path.join(path, f)))\n",
    "    res.extend([os.path.join(path, f) for f in files if not f.endswith(\".txt\")])\n",
    "    return res\n",
    "\n",
    "ds_name = \"imagenette2-320\"\n",
    "ds_path = Path(\"/home/gustav/Downloads/\") / ds_name\n",
    "ds_cats = [\"train\", \"val\"]\n",
    "\n",
    "res_dir = Path(\"/home/gustav/Downloads/ds_proc/\")\n",
    "\n",
    "os.makedirs(res_dir, exist_ok=True)"
   ]
  },
  {
   "cell_type": "code",
   "execution_count": 2,
   "id": "6eed3301-9b27-4e09-8caf-0fcab8101138",
   "metadata": {},
   "outputs": [],
   "source": [
    "import os\n",
    "import dng\n",
    "import cfa\n",
    "import noise\n",
    "import numpy as np\n",
    "from PIL import Image\n",
    "\n",
    "\n",
    "def add_noise_to_ds_category(ds_path, res_dir, suffix, noise, noise_amt, size):\n",
    "    noise_type, noise_func = noise\n",
    "    save_path_png          = res_dir / \"png\" / noise_type / f\"{noise_amt*100:g}pct\" / suffix\n",
    "    save_path_dng          = res_dir / \"dng\" / noise_type / f\"{noise_amt*100:g}pct\" / suffix\n",
    "    save_path_npy          = res_dir / \"npy\" / noise_type / f\"{noise_amt*100:g}pct\" / suffix\n",
    "    os.makedirs(save_path_png, exist_ok=True)\n",
    "    os.makedirs(save_path_dng, exist_ok=True)\n",
    "    os.makedirs(save_path_npy, exist_ok=True)\n",
    "    \n",
    "    imgs = findAllFiles(ds_path / suffix)[:10]\n",
    "    \n",
    "    \n",
    "    for n, img in enumerate(imgs):\n",
    "        img_rgb       = np.array(Image.open(img).convert(\"RGB\"), dtype=np.uint8)\n",
    "        \n",
    "        # Center crop\n",
    "        h, w, c = img_rgb.shape\n",
    "        offset_x = (h - size) // 2\n",
    "        offset_y = (w - size) // 2\n",
    "        \n",
    "        img_crop      = np.zeros((size,size,c))\n",
    "        img_crop      = img_rgb[offset_x:(offset_x+size), offset_y:(offset_y+size)]\n",
    "        img_rgb_noise = noise_func(img_crop, amount=noise_amt)\n",
    "        \n",
    "        # Save Noisy RGB image\n",
    "        Image.fromarray(img_rgb_noise).save(save_path_png / f\"{n}.png\", format=\"PNG\")\n",
    "        \n",
    "        img_cfa = cfa.rgb_to_cfa(img_rgb_noise.astype(np.uint16) * 2**8, cfa.rgb_kf)   \n",
    "\n",
    "        # Save noisy CFA\n",
    "        dng.write(img_cfa, filename=str(save_path_dng / str(n)))\n",
    "        np.save(save_path_npy / str(n), img_cfa)\n",
    "\n",
    "\n",
    "def add_noise_to_ds(ds_path, res_dir, suffixes, noises, noise_amts, size):\n",
    "    for noise in noises:\n",
    "        for noise_amt in noise_amts:\n",
    "            for suffix in suffixes:\n",
    "                add_noise_to_ds_category(ds_path, res_dir, suffix, noise, noise_amt, size)\n",
    "\n",
    "noises = [\n",
    "    (\"gaussian\", noise.gaussian_noise),\n",
    "    (\"speckle\", noise.norm_speckle_noise),\n",
    "    (\"saltpepper\", noise.salt_pepper_noise)\n",
    "]\n",
    "\n",
    "noise_amts = [0.1, 0.3, 0.7]\n",
    "suffixes   = [\"train\", \"val\"]\n",
    "size = 320\n",
    "\n",
    "add_noise_to_ds(ds_path, res_dir, suffixes, noises, noise_amts, size)"
   ]
  },
  {
   "cell_type": "code",
   "execution_count": 10,
   "id": "d1a68bbc-eb77-4448-85aa-d59d90e65610",
   "metadata": {},
   "outputs": [
    {
     "name": "stdout",
     "output_type": "stream",
     "text": [
      "CPU times: user 3.37 s, sys: 477 ms, total: 3.85 s\n",
      "Wall time: 4.59 s\n"
     ]
    }
   ],
   "source": [
    "/archive/index.html%%time\n",
    "\n",
    "import dng\n",
    "import cfa\n",
    "import numpy as np\n",
    "from PIL import Image\n",
    "\n",
    "\n",
    "suffix         = \"train\"\n",
    "save_path      = ds_path + \"dng/\"\n",
    "imgs           = findAllFiles(ds_path + suffix)[:10000]\n",
    "cell_x, cell_y = (64,64)\n",
    "pad_x, pad_y   = ((226 - 64) // 2, (226 - 64) // 2)\n",
    "\n",
    "for n, img in enumerate(imgs):\n",
    "    img     = Image.open(img).convert(\"RGB\")\n",
    "    img_arr = cfa.rgb_to_cfa(np.array(img, dtype=np.uint16) * 2**8, cfa.rgb_kf)\n",
    "    \n",
    "    res = np.zeros((pad_x*2 + cell_x, pad_y*2 + cell_y), dtype=np.uint16)\n",
    "    res[pad_x:pad_x+cell_x, pad_y:pad_y+cell_y] = img_arr\n",
    "    \n",
    "    dng.write(img_arr, filename=f\"{save_path}{suffix}_{n}\")"
   ]
  },
  {
   "cell_type": "code",
   "execution_count": 42,
   "id": "a4d60a82-8e24-4f53-84c1-d086a7dbe499",
   "metadata": {},
   "outputs": [
    {
     "data": {
      "text/plain": [
       "'30pct'"
      ]
     },
     "execution_count": 42,
     "metadata": {},
     "output_type": "execute_result"
    }
   ],
   "source": [
    "f\"{0.3*100:g}pct\""
   ]
  }
 ],
 "metadata": {
  "kernelspec": {
   "display_name": "Python 3 (ipykernel)",
   "language": "python",
   "name": "python3"
  },
  "language_info": {
   "codemirror_mode": {
    "name": "ipython",
    "version": 3
   },
   "file_extension": ".py",
   "mimetype": "text/x-python",
   "name": "python",
   "nbconvert_exporter": "python",
   "pygments_lexer": "ipython3",
   "version": "3.11.7"
  }
 },
 "nbformat": 4,
 "nbformat_minor": 5
}
