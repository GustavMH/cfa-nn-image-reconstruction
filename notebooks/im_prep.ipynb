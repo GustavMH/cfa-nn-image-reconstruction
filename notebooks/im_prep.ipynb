{
 "cells": [
  {
   "cell_type": "code",
   "execution_count": 8,
   "id": "a48b32dc-99ea-49b2-a419-e42696cb28fd",
   "metadata": {},
   "outputs": [],
   "source": [
    "import os\n",
    "import time\n",
    "\n",
    "def findAllFiles(path):\n",
    "    res = []\n",
    "    path, folders, files = next(os.walk(path))\n",
    "    if folders:\n",
    "        for f in folders:\n",
    "            res.extend(findAllFiles(os.path.join(path, f)))\n",
    "    res.extend([os.path.join(path, f) for f in files if not f.endswith(\".txt\")])\n",
    "    return res\n",
    "\n",
    "ds_path = \"tiny-imagenet-200/\"\n",
    "#os.system(\"mkdir \" + ds_path + \"dng\")"
   ]
  },
  {
   "cell_type": "code",
   "execution_count": null,
   "id": "9491ef38-cd48-494b-8961-1a9ea3f2edc0",
   "metadata": {},
   "outputs": [],
   "source": []
  },
  {
   "cell_type": "code",
   "execution_count": 10,
   "id": "d1a68bbc-eb77-4448-85aa-d59d90e65610",
   "metadata": {},
   "outputs": [
    {
     "name": "stdout",
     "output_type": "stream",
     "text": [
      "CPU times: user 3.37 s, sys: 477 ms, total: 3.85 s\n",
      "Wall time: 4.59 s\n"
     ]
    }
   ],
   "source": [
    "%%time\n",
    "\n",
    "import dng\n",
    "import cfa\n",
    "import numpy as np\n",
    "from PIL import Image\n",
    "\n",
    "\n",
    "suffix         = \"train\"\n",
    "save_path      = ds_path + \"dng/\"\n",
    "imgs           = findAllFiles(ds_path + suffix)[:10000]\n",
    "cell_x, cell_y = (64,64)\n",
    "pad_x, pad_y   = ((226 - 64) // 2, (226 - 64) // 2)\n",
    "\n",
    "for n, img in enumerate(imgs):\n",
    "    img     = Image.open(img).convert(\"RGB\")\n",
    "    img_arr = cfa.rgb_to_cfa(np.array(img, dtype=np.uint16) * 2**8, cfa.rgb_kf)\n",
    "    \n",
    "    res = np.zeros((pad_x*2 + cell_x, pad_y*2 + cell_y), dtype=np.uint16)\n",
    "    res[pad_x:pad_x+cell_x, pad_y:pad_y+cell_y] = img_arr\n",
    "    \n",
    "    dng.write(img_arr, filename=f\"{save_path}{suffix}_{n}\")"
   ]
  },
  {
   "cell_type": "code",
   "execution_count": 41,
   "id": "07d2d5a3-f70e-43b2-98c4-057205b2839c",
   "metadata": {},
   "outputs": [
    {
     "name": "stdout",
     "output_type": "stream",
     "text": [
      "RawTherapee, version 5.9, command line.\n",
      "\"tiny-imagenet-200/dng/train_0.png\"  is not one of the selected parsed extensions. Image skipped.\n",
      "\"tiny-imagenet-200/dng/train_1.png\"  is not one of the selected parsed extensions. Image skipped.\n",
      "\"tiny-imagenet-200/dng/train_2.png\"  is not one of the selected parsed extensions. Image skipped.\n",
      "\"tiny-imagenet-200/dng/train_3.png\"  is not one of the selected parsed extensions. Image skipped.\n",
      "\"tiny-imagenet-200/dng/train_4.png\"  is not one of the selected parsed extensions. Image skipped.\n",
      "\"tiny-imagenet-200/dng/train_5.png\"  is not one of the selected parsed extensions. Image skipped.\n",
      "\"tiny-imagenet-200/dng/train_6.png\"  is not one of the selected parsed extensions. Image skipped.\n",
      "\"tiny-imagenet-200/dng/train_7.png\"  is not one of the selected parsed extensions. Image skipped.\n",
      "\"tiny-imagenet-200/dng/train_8.png\"  is not one of the selected parsed extensions. Image skipped.\n",
      "\"tiny-imagenet-200/dng/train_9.png\"  is not one of the selected parsed extensions. Image skipped.\n",
      "Output is 8-bit integer.\n",
      "Processing: tiny-imagenet-200/dng/train_0.dng\n",
      "Output is 8-bit integer.\n",
      "Processing: tiny-imagenet-200/dng/train_1.dng\n",
      "Output is 8-bit integer.\n",
      "Processing: tiny-imagenet-200/dng/train_2.dng\n",
      "Output is 8-bit integer.\n",
      "Processing: tiny-imagenet-200/dng/train_3.dng\n",
      "Output is 8-bit integer.\n",
      "Processing: tiny-imagenet-200/dng/train_4.dng\n",
      "Output is 8-bit integer.\n",
      "Processing: tiny-imagenet-200/dng/train_5.dng\n",
      "Output is 8-bit integer.\n",
      "Processing: tiny-imagenet-200/dng/train_6.dng\n",
      "Output is 8-bit integer.\n",
      "Processing: tiny-imagenet-200/dng/train_7.dng\n",
      "Output is 8-bit integer.\n",
      "Processing: tiny-imagenet-200/dng/train_8.dng\n",
      "Output is 8-bit integer.\n",
      "Processing: tiny-imagenet-200/dng/train_9.dng\n"
     ]
    },
    {
     "name": "stderr",
     "output_type": "stream",
     "text": [
      "Error loading file: tiny-imagenet-200/dng/train_0.dng\n",
      "Error loading file: tiny-imagenet-200/dng/train_1.dng\n",
      "Error loading file: tiny-imagenet-200/dng/train_2.dng\n",
      "Error loading file: tiny-imagenet-200/dng/train_3.dng\n",
      "Error loading file: tiny-imagenet-200/dng/train_4.dng\n",
      "Error loading file: tiny-imagenet-200/dng/train_5.dng\n",
      "Error loading file: tiny-imagenet-200/dng/train_6.dng\n",
      "Error loading file: tiny-imagenet-200/dng/train_7.dng\n",
      "Error loading file: tiny-imagenet-200/dng/train_8.dng\n",
      "Error loading file: tiny-imagenet-200/dng/train_9.dng\n"
     ]
    },
    {
     "data": {
      "text/plain": [
       "65024"
      ]
     },
     "execution_count": 41,
     "metadata": {},
     "output_type": "execute_result"
    }
   ],
   "source": [
    "import os\n",
    "\n",
    "os.system(f\"rawtherapee-cli -Y -b8 -n -p ./tiny_imagenet.pp3 -c {save_path}\")"
   ]
  }
 ],
 "metadata": {
  "kernelspec": {
   "display_name": "Python 3 (ipykernel)",
   "language": "python",
   "name": "python3"
  },
  "language_info": {
   "codemirror_mode": {
    "name": "ipython",
    "version": 3
   },
   "file_extension": ".py",
   "mimetype": "text/x-python",
   "name": "python",
   "nbconvert_exporter": "python",
   "pygments_lexer": "ipython3",
   "version": "3.11.7"
  }
 },
 "nbformat": 4,
 "nbformat_minor": 5
}
