{
 "cells": [
  {
   "cell_type": "code",
   "execution_count": 5,
   "id": "a48b32dc-99ea-49b2-a419-e42696cb28fd",
   "metadata": {},
   "outputs": [
    {
     "data": {
      "text/plain": [
       "0"
      ]
     },
     "execution_count": 5,
     "metadata": {},
     "output_type": "execute_result"
    }
   ],
   "source": [
    "import os\n",
    "\n",
    "def findAllFiles(path):\n",
    "    res = []\n",
    "    path, folders, files = next(os.walk(path))\n",
    "    if folders:\n",
    "        for f in folders:\n",
    "            res.extend(findAllFiles(os.path.join(path, f)))\n",
    "    res.extend([os.path.join(path, f) for f in files])\n",
    "    return res\n",
    "\n",
    "ds_path = \"tiny-imagenet-200/\"\n",
    "os.system(\"mkdir \" + ds_path + \"dng\")\n"
   ]
  },
  {
   "cell_type": "code",
   "execution_count": 38,
   "id": "d1a68bbc-eb77-4448-85aa-d59d90e65610",
   "metadata": {},
   "outputs": [],
   "source": [
    "import dng\n",
    "import cfa\n",
    "import numpy as np\n",
    "from PIL import Image\n",
    "\n",
    "suffix         = \"train\"\n",
    "save_path      = ds_path + \"dng/\"\n",
    "imgs           = findAllFiles(ds_path + suffix)[:10]\n",
    "cell_x, cell_y = (64,64)\n",
    "pad_x, pad_y   = ((226 - 64) // 2, (226 - 64) // 2)\n",
    "\n",
    "for n, img in enumerate(imgs):\n",
    "    img     = Image.open(img).convert(\"RGB\")\n",
    "    img_arr = cfa.rgb_to_cfa(np.array(img, dtype=np.uint16) * 2**8, cfa.rgb_kf)\n",
    "    \n",
    "    res = np.zeros((pad_x*2 + cell_x, pad_y*2 + cell_y), dtype=np.uint16)\n",
    "    res[pad_x:pad_x+cell_x, pad_y:pad_y+cell_y] = img_arr\n",
    "    \n",
    "    dng.saveFile(res, f\"{save_path}{suffix}_{n}\")"
   ]
  },
  {
   "cell_type": "code",
   "execution_count": 8,
   "id": "07d2d5a3-f70e-43b2-98c4-057205b2839c",
   "metadata": {},
   "outputs": [
    {
     "data": {
      "text/plain": [
       "81"
      ]
     },
     "execution_count": 8,
     "metadata": {},
     "output_type": "execute_result"
    }
   ],
   "source": [
    "import os\n",
    "\n",
    "os.system(f\"rawtherapee-cli -Y -b8 -n -p ./tiny -c {save_path}\")"
   ]
  }
 ],
 "metadata": {
  "kernelspec": {
   "display_name": "Python 3 (ipykernel)",
   "language": "python",
   "name": "python3"
  },
  "language_info": {
   "codemirror_mode": {
    "name": "ipython",
    "version": 3
   },
   "file_extension": ".py",
   "mimetype": "text/x-python",
   "name": "python",
   "nbconvert_exporter": "python",
   "pygments_lexer": "ipython3",
   "version": "3.11.6"
  }
 },
 "nbformat": 4,
 "nbformat_minor": 5
}
